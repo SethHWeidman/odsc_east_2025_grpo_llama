{
  "cells": [
    {
      "cell_type": "markdown",
      "metadata": {},
      "source": [
        "# Notebook #4: Comparing model results\n",
        "\n",
        "## ODSC East 2025: GRPO on Llama Code Demo\n",
        "\n",
        "In this notebook, we'll compare answers to specific questions on one model vs. another."
      ]
    },
    {
      "cell_type": "markdown",
      "metadata": {},
      "source": [
        "# Imports, installation, and setup"
      ]
    },
    {
      "cell_type": "code",
      "execution_count": null,
      "metadata": {
        "colab": {
          "base_uri": "https://localhost:8080/"
        },
        "id": "mzeEORbLSdCu",
        "outputId": "8d98e4ab-82ff-41ec-9d99-538f1abfdedf"
      },
      "outputs": [],
      "source": [
        "!pip install boto3==1.37.0"
      ]
    },
    {
      "cell_type": "code",
      "execution_count": null,
      "metadata": {
        "id": "nLWEZ6NcSBgK"
      },
      "outputs": [],
      "source": [
        "import getpass\n",
        "import json\n",
        "import os\n",
        "\n",
        "import boto3"
      ]
    },
    {
      "cell_type": "code",
      "execution_count": null,
      "metadata": {
        "colab": {
          "base_uri": "https://localhost:8080/"
        },
        "id": "L3lrLYyxShYI",
        "outputId": "7740593e-a8fe-4607-8200-db3a337f5a5b"
      },
      "outputs": [],
      "source": [
        "AWS_ACCESS_KEY_ID = getpass.getpass(\"Enter your AWS_ACCESS_KEY_ID: \")\n",
        "AWS_SECRET_ACCESS_KEY = getpass.getpass(\"Enter your AWS_SECRET_ACCESS_KEY: \")\n",
        "\n",
        "os.environ[\"AWS_ACCESS_KEY_ID\"] = AWS_ACCESS_KEY_ID\n",
        "os.environ[\"AWS_SECRET_ACCESS_KEY\"] = AWS_SECRET_ACCESS_KEY\n",
        "\n",
        "\n",
        "S3_BUCKET_NAME = \"data-science-talks\"\n",
        "S3_CLIENT = boto3.client(\"s3\")"
      ]
    },
    {
      "cell_type": "markdown",
      "metadata": {},
      "source": [
        "# S3 Helper functions"
      ]
    },
    {
      "cell_type": "code",
      "execution_count": null,
      "metadata": {
        "id": "8mautK7Pa1Mn"
      },
      "outputs": [],
      "source": [
        "def download_object_from_s3(object_key: str, bucket_name: str = S3_BUCKET_NAME) -> None:\n",
        "    object_name = f\"{object_key}.json\"\n",
        "    obj = S3_CLIENT.get_object(Bucket=bucket_name, Key=object_name)\n",
        "    print(f\"Reading {object_name} into Python from S3\")\n",
        "    data_bytes = obj[\"Body\"].read()  # Read the raw bytes from S3\n",
        "    return json.loads(data_bytes)  # Parse directly as JSON\n",
        "\n",
        "\n",
        "def download_and_display_object_from_s3(object_key: str, bucket_name: str = S3_BUCKET_NAME) -> None:\n",
        "    json_object = download_object_from_s3(object_key, bucket_name)\n",
        "    print(\"-\" * 40)\n",
        "    print(json.dumps(json_object, indent=2))\n",
        "    return json_object\n"
      ]
    },
    {
      "cell_type": "markdown",
      "metadata": {
        "id": "1YLHtd1hHtV1"
      },
      "source": [
        "# Evaluating results"
      ]
    },
    {
      "cell_type": "code",
      "execution_count": null,
      "metadata": {
        "id": "GRHOqkqfmwxg"
      },
      "outputs": [],
      "source": [
        "PREFIX_NEW = \"gsm8k_llama_7b_100_record_test_new_prompt_\"\n",
        "S3_FINE_TUNE_PREFIX = 'gsm8k_lora_reward_fixes_3_lora_64_checkpoints_post_finetune_800_2_float16_'"
      ]
    },
    {
      "cell_type": "code",
      "execution_count": null,
      "metadata": {
        "id": "mFBewY5sV5vq"
      },
      "outputs": [],
      "source": [
        "IND = 70\n",
        "record_tmp = download_and_display_object_from_s3(f'{PREFIX_NEW}{IND}')"
      ]
    },
    {
      "cell_type": "code",
      "execution_count": null,
      "metadata": {
        "colab": {
          "base_uri": "https://localhost:8080/"
        },
        "id": "1iH1LQA_q7zo",
        "outputId": "485763c1-97a0-4de6-efa1-2988e1300e3f"
      },
      "outputs": [],
      "source": [
        "record_tmp = download_and_display_object_from_s3(f'{S3_FINE_TUNE_PREFIX}{IND}')"
      ]
    }
  ],
  "metadata": {
    "accelerator": "GPU",
    "colab": {
      "gpuType": "A100",
      "machine_shape": "hm",
      "provenance": []
    },
    "kernelspec": {
      "display_name": "py3_12",
      "language": "python",
      "name": "python3"
    },
    "language_info": {
      "codemirror_mode": {
        "name": "ipython",
        "version": 3
      },
      "file_extension": ".py",
      "mimetype": "text/x-python",
      "name": "python",
      "nbconvert_exporter": "python",
      "pygments_lexer": "ipython3",
      "version": "3.12.9"
    }
  },
  "nbformat": 4,
  "nbformat_minor": 0
}
